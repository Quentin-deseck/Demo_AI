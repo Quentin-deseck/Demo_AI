{
 "cells": [
  {
   "cell_type": "code",
   "execution_count": 1,
   "id": "3790c665-9258-488a-85f5-4094b68b0bb8",
   "metadata": {},
   "outputs": [
    {
     "name": "stdout",
     "output_type": "stream",
     "text": [
      "Note: you may need to restart the kernel to use updated packages.\n"
     ]
    }
   ],
   "source": [
    "%pip install -q transformers python-dotenv"
   ]
  },
  {
   "cell_type": "code",
   "execution_count": 2,
   "id": "64e96471-ec85-4dc1-a30c-2970ab661b5a",
   "metadata": {},
   "outputs": [
    {
     "name": "stderr",
     "output_type": "stream",
     "text": [
      "Device set to use cpu\n"
     ]
    }
   ],
   "source": [
    "from transformers import pipeline\n",
    "\n",
    "pipe = pipeline(\"text-generation\", model=\"meta-llama/Llama-3.2-1B\")\n"
   ]
  },
  {
   "cell_type": "code",
   "execution_count": 3,
   "id": "1864284d-37a2-449b-b149-48fa4a7e808e",
   "metadata": {},
   "outputs": [],
   "source": [
    "from transformers import AutoTokenizer, AutoModelForCausalLM\n",
    "\n",
    "tokenizer = AutoTokenizer.from_pretrained(\"meta-llama/Llama-3.2-1B\")\n",
    "model = AutoModelForCausalLM.from_pretrained(\"meta-llama/Llama-3.2-1B\")"
   ]
  },
  {
   "cell_type": "code",
   "execution_count": 15,
   "id": "a4234b3c-6336-406c-b6e2-f706bf5b1eae",
   "metadata": {},
   "outputs": [
    {
     "name": "stderr",
     "output_type": "stream",
     "text": [
      "Setting `pad_token_id` to `eos_token_id`:128001 for open-end generation.\n"
     ]
    },
    {
     "data": {
      "text/plain": [
       "[{'generated_text': \"this restaurant is awesome! it's a little bit pricy, but the food is worth it. they have a good selection of wine and the menu is good. they have an outdoor patio, which is a great place to enjoy a nice meal. i recommend this place to anyone!\\nWe had dinner at The Farm Table at the Old Spaghetti Factory. We were there on a Friday night and the restaurant was full. The food was good, the service was great, and the atmosphere was very nice. We had the baked ziti and the chicken parm. The ziti was very good and the chicken was very tender. The sides of the baked ziti were good as well. I would definitely recommend this restaurant.\\nMy husband and I ate at the Old Spaghetti Factory restaurant in Rochester, NY on a recent trip to the Finger Lakes region. We had dinner there and were very pleased with our meal. The restaurant has a casual, family atmosphere. We ordered the baked ziti and the chicken parm. We were very happy with our meals. The baked ziti was very good. The chicken parm was very good as well. We would definitely recommend this restaurant.\\nI went to this restaurant with my family, and the food was great. I ordered the baked ziti and the chicken parm,\"}]"
      ]
     },
     "execution_count": 15,
     "metadata": {},
     "output_type": "execute_result"
    }
   ],
   "source": [
    "pipe(\"this restaurant is awesome\")"
   ]
  },
  {
   "cell_type": "code",
   "execution_count": null,
   "id": "f78a48e0-3e1d-40b8-95fb-ebf2fb56964e",
   "metadata": {},
   "outputs": [
    {
     "data": {
      "application/vnd.jupyter.widget-view+json": {
       "model_id": "c762b26e418744cea997d17091f058d5",
       "version_major": 2,
       "version_minor": 0
      },
      "text/plain": [
       "Loading checkpoint shards:   0%|          | 0/2 [00:00<?, ?it/s]"
      ]
     },
     "metadata": {},
     "output_type": "display_data"
    }
   ],
   "source": [
    "generator = pipeline(\"text-generation\", model=\"meta-llama/Llama-2-7b-chat-hf\")\n",
    "result = generator(\"Once upon a time, there was a wise wizard who\", max_length=50)\n",
    "print(result)"
   ]
  },
  {
   "cell_type": "code",
   "execution_count": null,
   "id": "83effb7c-526d-400c-b67f-2dd0365395e2",
   "metadata": {},
   "outputs": [],
   "source": []
  }
 ],
 "metadata": {
  "kernelspec": {
   "display_name": "Python 3",
   "language": "python",
   "name": "python3"
  },
  "language_info": {
   "codemirror_mode": {
    "name": "ipython",
    "version": 3
   },
   "file_extension": ".py",
   "mimetype": "text/x-python",
   "name": "python",
   "nbconvert_exporter": "python",
   "pygments_lexer": "ipython3",
   "version": "3.10.10"
  }
 },
 "nbformat": 4,
 "nbformat_minor": 5
}
