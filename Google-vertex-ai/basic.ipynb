{
 "cells": [
  {
   "cell_type": "code",
   "execution_count": 1,
   "id": "337b8126",
   "metadata": {},
   "outputs": [
    {
     "name": "stdout",
     "output_type": "stream",
     "text": [
      "\u001b[33m  WARNING: The scripts pyrsa-decrypt, pyrsa-encrypt, pyrsa-keygen, pyrsa-priv2pub, pyrsa-sign and pyrsa-verify are installed in '/usr/local/python/3.12.1/bin' which is not on PATH.\n",
      "  Consider adding this directory to PATH or, if you prefer to suppress this warning, use --no-warn-script-location.\u001b[0m\u001b[33m\n",
      "\u001b[0m\n",
      "\u001b[1m[\u001b[0m\u001b[34;49mnotice\u001b[0m\u001b[1;39;49m]\u001b[0m\u001b[39;49m A new release of pip is available: \u001b[0m\u001b[31;49m25.0.1\u001b[0m\u001b[39;49m -> \u001b[0m\u001b[32;49m25.1.1\u001b[0m\n",
      "\u001b[1m[\u001b[0m\u001b[34;49mnotice\u001b[0m\u001b[1;39;49m]\u001b[0m\u001b[39;49m To update, run: \u001b[0m\u001b[32;49mpython -m pip install --upgrade pip\u001b[0m\n",
      "Note: you may need to restart the kernel to use updated packages.\n"
     ]
    }
   ],
   "source": [
    "%pip install -q -U google-generativeai python-dotenv"
   ]
  },
  {
   "cell_type": "code",
   "execution_count": 2,
   "id": "ba4e6c92",
   "metadata": {},
   "outputs": [
    {
     "data": {
      "text/plain": [
       "True"
      ]
     },
     "execution_count": 2,
     "metadata": {},
     "output_type": "execute_result"
    }
   ],
   "source": [
    "import dotenv\n",
    "import os\n",
    "dotenv.load_dotenv()"
   ]
  },
  {
   "cell_type": "code",
   "execution_count": 3,
   "id": "1b5913cc",
   "metadata": {},
   "outputs": [
    {
     "name": "stderr",
     "output_type": "stream",
     "text": [
      "/usr/local/python/3.12.1/lib/python3.12/site-packages/tqdm/auto.py:21: TqdmWarning: IProgress not found. Please update jupyter and ipywidgets. See https://ipywidgets.readthedocs.io/en/stable/user_install.html\n",
      "  from .autonotebook import tqdm as notebook_tqdm\n"
     ]
    },
    {
     "name": "stdout",
     "output_type": "stream",
     "text": [
      "AI doesn't work in a single, unified way.  Instead, it encompasses a broad range of techniques and approaches, all aiming to create systems that can perform tasks that typically require human intelligence.  These tasks include things like learning, reasoning, problem-solving, perception, and natural language understanding.  Here's a breakdown of some key concepts:\n",
      "\n",
      "**1. Machine Learning (ML):**  This is arguably the most prominent approach to AI.  Instead of explicitly programming a computer to perform a task, ML involves training algorithms on large datasets.  The algorithm learns patterns and relationships within the data, allowing it to make predictions or decisions on new, unseen data.  There are several types of ML:\n",
      "\n",
      "* **Supervised Learning:** The algorithm is trained on labeled data (data where the desired output is known).  For example, showing an algorithm many images of cats and dogs, labeled accordingly, so it can learn to distinguish between them.\n",
      "* **Unsupervised Learning:** The algorithm is trained on unlabeled data and must find patterns and structures on its own.  For example, grouping similar customers together based on their purchasing behavior.\n",
      "* **Reinforcement Learning:** The algorithm learns through trial and error, receiving rewards or penalties for its actions.  This is often used in robotics and game playing, where the AI learns to achieve a goal through interaction with its environment.\n",
      "\n",
      "**2. Deep Learning (DL):** A subfield of ML that uses artificial neural networks with multiple layers (hence \"deep\"). These networks are inspired by the structure and function of the human brain.  Deep learning excels at processing complex data like images, audio, and text, and has achieved remarkable results in areas like image recognition, natural language processing, and speech recognition.\n",
      "\n",
      "**3. Natural Language Processing (NLP):** This focuses on enabling computers to understand, interpret, and generate human language.  NLP techniques are used in chatbots, machine translation, sentiment analysis, and text summarization.\n",
      "\n",
      "**4. Computer Vision:** This involves enabling computers to \"see\" and interpret images and videos.  It's used in applications like facial recognition, object detection, and medical image analysis.\n",
      "\n",
      "**5. Expert Systems:**  These are rule-based systems that mimic the decision-making ability of a human expert in a specific domain.  They use a knowledge base of facts and rules to answer questions and solve problems.  While less prevalent now, they represent an older approach to AI.\n",
      "\n",
      "**How it works in simple terms:**\n",
      "\n",
      "Imagine you want to teach a computer to identify cats in pictures.  With ML, you'd feed it thousands of cat pictures (labeled \"cat\"). The algorithm analyzes these pictures, identifying features like pointy ears, whiskers, and fur patterns.  Over time, it learns to associate these features with the label \"cat.\"  When presented with a new picture, it uses the learned patterns to predict whether it's a cat or not.  Deep learning takes this further by using complex neural networks to learn even more intricate features and relationships in the data.\n",
      "\n",
      "**Limitations:**\n",
      "\n",
      "AI systems are not sentient or conscious. They operate based on algorithms and data.  They can be biased if the data they are trained on is biased. They can also be vulnerable to adversarial attacks, where small changes to input data can cause significant errors in the output.  Furthermore, they often lack the common sense and general understanding of the world that humans possess.\n",
      "\n",
      "\n",
      "In short, AI is a vast and evolving field.  These explanations provide a foundational understanding of the core concepts and approaches.  The specific techniques and algorithms used vary greatly depending on the task and application.\n",
      "\n"
     ]
    }
   ],
   "source": [
    "import google.generativeai as genai\n",
    "\n",
    "genai.configure(api_key=os.environ.get(\"GOOGLE_API_KEY\"))\n",
    "model = genai.GenerativeModel(\"gemini-1.5-flash\")\n",
    "response = model.generate_content(\"Explain how AI works\")\n",
    "print(response.text)"
   ]
  },
  {
   "cell_type": "code",
   "execution_count": 4,
   "id": "141489d3",
   "metadata": {},
   "outputs": [
    {
     "name": "stdout",
     "output_type": "stream",
     "text": [
      "I cannot provide 10 citations without knowing the topic or area of study.  Citations require a specific source. To give you helpful citations, please tell me:\n",
      "\n",
      "* **What is the topic?** (e.g., the impact of climate change on polar bears, the history of the Roman Empire, the benefits of exercise)\n",
      "* **What kind of sources are you looking for?** (e.g., journal articles, books, websites)\n",
      "\n",
      "Once I have this information, I can provide you with 10 relevant and properly formatted citations.\n",
      "\n"
     ]
    }
   ],
   "source": [
    "import google.generativeai as genai\n",
    "\n",
    "genai.configure(api_key=os.environ.get(\"GOOGLE_API_KEY\"))\n",
    "model = genai.GenerativeModel(\"gemini-1.5-flash\")\n",
    "response = model.generate_content(\"cites 10 citation\")\n",
    "print(response.text)"
   ]
  },
  {
   "cell_type": "code",
   "execution_count": 5,
   "id": "7fc27026",
   "metadata": {},
   "outputs": [
    {
     "name": "stdout",
     "output_type": "stream",
     "text": [
      "Providing full citations requires knowing the specific edition and publisher of each work, which is impossible without more information.  However, I can give you 10 influential works and the author's name, which you can then use to find and properly cite the specific edition you're using. Remember to check your style guide (MLA, Chicago, etc.) for the correct citation format.\n",
      "\n",
      "\n",
      "1. **Tacitus, *Annals* and *Histories*:** Tacitus's works offer crucial primary source material for the Julio-Claudian and Flavian dynasties, providing invaluable insight into the political intrigues and social realities of the Roman Empire.\n",
      "\n",
      "2. **Suetonius, *The Lives of the Twelve Caesars*:** This biography collection, also a primary source, details the lives of Roman emperors from Augustus to Domitian, offering a sometimes gossipy but revealing perspective.\n",
      "\n",
      "3. **Plutarch, *Parallel Lives*:** While not solely focused on the Roman Empire, Plutarch's *Parallel Lives* includes biographies of several key Roman figures, offering comparisons with Greek counterparts and valuable insights into their characters.\n",
      "\n",
      "4. **Edward Gibbon, *The History of the Decline and Fall of the Roman Empire*:** A classic and immensely influential (though now debated in some aspects) multi-volume work covering the entire history of the Roman Empire, from Augustus to the fall of Constantinople.\n",
      "\n",
      "5. **Ronald Syme, *The Roman Revolution*:** A highly regarded scholarly work focusing on the rise of Augustus and the establishment of the Principate.\n",
      "\n",
      "6. **Adrian Goldsworthy, *How Rome Fell: Death of a Superpower*:** A modern work offering a compelling and accessible account of the Empire's decline and eventual collapse.\n",
      "\n",
      "7. **Greg Woolf, *Becoming Roman: The Origins of Provincial Civilization in Gaul*:** This book explores the process of Romanization in a specific province, offering a more nuanced view of the empire's impact on conquered territories.\n",
      "\n",
      "8. **Mary Beard, *SPQR: A History of the Roman World*:**  A recent and highly accessible work offering a broad overview of the Roman Empire, combining political and social history with insights into daily life.\n",
      "\n",
      "9. **Keith Hopkins, *Conquerors and Slaves*:** This influential book examines the social and economic structures of the Roman Empire, highlighting the role of slavery in its functioning.\n",
      "\n",
      "10. **Averil Cameron, *The Later Roman Empire*:** A significant work focusing on the transformation of the Empire during the later periods, encompassing political, religious, and social changes.\n",
      "\n",
      "\n",
      "Remember to locate the specific editions of these works and cite them using your chosen citation style.  These titles offer a starting point for researching the Roman Empire's rich and complex history.\n",
      "\n"
     ]
    }
   ],
   "source": [
    "import google.generativeai as genai\n",
    "\n",
    "genai.configure(api_key=os.environ.get(\"GOOGLE_API_KEY\"))\n",
    "model = genai.GenerativeModel(\"gemini-1.5-flash\")\n",
    "response = model.generate_content(\"provide 10 citations about the history of the roman empire\")\n",
    "print(response.text)"
   ]
  }
 ],
 "metadata": {
  "kernelspec": {
   "display_name": "Python 3",
   "language": "python",
   "name": "python3"
  },
  "language_info": {
   "codemirror_mode": {
    "name": "ipython",
    "version": 3
   },
   "file_extension": ".py",
   "mimetype": "text/x-python",
   "name": "python",
   "nbconvert_exporter": "python",
   "pygments_lexer": "ipython3",
   "version": "3.12.1"
  }
 },
 "nbformat": 4,
 "nbformat_minor": 5
}
